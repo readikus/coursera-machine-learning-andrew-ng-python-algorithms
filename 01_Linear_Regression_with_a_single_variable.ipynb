{
  "nbformat": 4,
  "nbformat_minor": 0,
  "metadata": {
    "colab": {
      "name": "Linear Regression Algorithm in Python",
      "provenance": [],
      "collapsed_sections": [],
      "include_colab_link": true
    },
    "kernelspec": {
      "name": "python3",
      "display_name": "Python 3"
    }
  },
  "cells": [
    {
      "cell_type": "markdown",
      "metadata": {
        "id": "view-in-github",
        "colab_type": "text"
      },
      "source": [
        "<a href=\"https://colab.research.google.com/github/readikus/coursera-machine-learning-andrew-ng-python-algorithms/blob/master/01_Linear_Regression_with_a_single_variable.ipynb\" target=\"_parent\"><img src=\"https://colab.research.google.com/assets/colab-badge.svg\" alt=\"Open In Colab\"/></a>"
      ]
    },
    {
      "cell_type": "markdown",
      "metadata": {
        "id": "xkKj56KN95q3",
        "colab_type": "text"
      },
      "source": [
        "# Linear Regression Algorithm with a single variable in Python\n",
        "\n",
        "In this notebook, we are going to look at implementing one of the easiest-to-follow machine learning algorithms: linear regression with a single variable.\n",
        "\n",
        "We will be implementing as much of this algorithm as possible, so we understand how it works, rather than just calling an existing library with the input file. Understanding linear regression is a great introduction to other machine learning algorithms and models, such as neural networks.\n",
        "\n",
        "Linear regression allows us to make a prediction based on a single or multiple values, when there is a clear relationship between them. For example, if you're going on a long car journey, the number of miles you travel will roughly correspond to the litres of fuel your car uses. As the mileage goes up, so does the amount of fuel.\n",
        "\n",
        "We will implement an algorithm that can \"learn\" such relationship based on training examples, and produce a \"model\". [Andrew Ng's Machine Learning course](https://www.coursera.org/learn/machine-learning) on Coursera gives a detailed introduction to the theory behind this algorithm."
      ]
    },
    {
      "cell_type": "markdown",
      "metadata": {
        "id": "r5zf-20Alt4S",
        "colab_type": "text"
      },
      "source": [
        "## Import the data set and visualise it\n",
        "\n",
        "For this piece, we are looking at the popular problem of estimating house price based on the size of the house (measured in square footage).\n",
        "\n",
        "A simple data set is included in comments for testing the algorthm works."
      ]
    },
    {
      "cell_type": "code",
      "metadata": {
        "id": "hG1MyW_jkIPi",
        "colab_type": "code",
        "colab": {}
      },
      "source": [
        "import pandas as pd\n",
        "import numpy as np\n",
        "from matplotlib import pyplot as plt\n",
        "\n",
        "# load the sample data for house prices in Portland\n",
        "url = 'https://raw.githubusercontent.com/readikus/coursera-machine-learning-andrew-ng-python-algorithms/master/data/portland-house-prices.csv'\n",
        "df = pd.read_csv(url, header=None, names=[\"square_footage\", \"rooms\", \"price\"])\n",
        "\n",
        "# initialize list of lists \n",
        "#data = [[1, 12], [4, 18], [12, 34]]\n",
        "# Create the pandas DataFrame \n",
        "#df = pd.DataFrame(data, columns = ['square_footage', 'price']) \n",
        "  \n",
        "#actual_theta_0 = 10\n",
        "#actual_theta_1 = 2"
      ],
      "execution_count": 3,
      "outputs": []
    },
    {
      "cell_type": "markdown",
      "metadata": {
        "id": "b012cocZpyb2",
        "colab_type": "text"
      },
      "source": [
        "## Visualise the data\n",
        "\n",
        "The first stage will be to visualise our data for square footage vs price. This lets us get a feel for the data. We can see that as square footage goes up, so does price. Generally that relationship follows a pattern - a line - so we call this a _linear relationship_."
      ]
    },
    {
      "cell_type": "code",
      "metadata": {
        "id": "sxh0zM8ykF8x",
        "colab_type": "code",
        "colab": {
          "base_uri": "https://localhost:8080/",
          "height": 279
        },
        "outputId": "47b911f7-0492-4b17-ddc2-342671da6f9f"
      },
      "source": [
        "def scatter_plot(feature, label, x_label, y_label):\n",
        "    \"\"\"Plot the trained model against the training feature and label.\"\"\"\n",
        "\n",
        "    # Label the axes.\n",
        "    plt.xlabel(x_label)\n",
        "    plt.ylabel(y_label)\n",
        "\n",
        "    # Plot the feature values vs. label values.\n",
        "    plt.scatter(feature, label)\n",
        "\n",
        "    # Render the scatter plot and the red line.\n",
        "    plt.show()\n",
        "\n",
        "scatter_plot(df['square_footage'].tolist(), df['price'].tolist(), 'Square Footage', 'Price ($)') "
      ],
      "execution_count": 4,
      "outputs": [
        {
          "output_type": "display_data",
          "data": {
            "image/png": "[encoded data removed]",
            "text/plain": [
              "<Figure size 432x288 with 1 Axes>"
            ]
          },
          "metadata": {
            "tags": [],
            "needs_background": "light"
          }
        }
      ]
    },
    {
      "cell_type": "markdown",
      "metadata": {
        "id": "-RP3h2p-Ynd4",
        "colab_type": "text"
      },
      "source": [
        "We can see in the plot above that as Square Footage increases, so does price. The plot also shows that this is not completely accurate, but shows a clearly trend.\n",
        "\n",
        "Processing data in `Panda's dataframes` and visualising with `matplotlib` are key skills for data science.\n"
      ]
    },
    {
      "cell_type": "code",
      "metadata": {
        "id": "zJDaBHL8jSNE",
        "colab_type": "code",
        "colab": {
          "base_uri": "https://localhost:8080/",
          "height": 119
        },
        "outputId": "19bf6611-68c3-4b62-901e-d6483b152bf8"
      },
      "source": [
        "head = df.head()\n",
        "print(head)"
      ],
      "execution_count": 5,
      "outputs": [
        {
          "output_type": "stream",
          "text": [
            "   square_footage  rooms   price\n",
            "0            2104      3  399900\n",
            "1            1600      3  329900\n",
            "2            2400      3  369000\n",
            "3            1416      2  232000\n",
            "4            3000      4  539900\n"
          ],
          "name": "stdout"
        }
      ]
    },
    {
      "cell_type": "markdown",
      "metadata": {
        "id": "sq1vBi3BKLUw",
        "colab_type": "text"
      },
      "source": [
        "## Feature scaling\n",
        "\n",
        "This is the bit that gets missed from a lot of tutorials, and leads to numerical overflow issues. Important for making the data fit within a range.\n",
        "\n",
        "When squaring numbers, already large numbers can get very large quickly and lead to numerical overflow. So instead, subtract the mean and divide by standard deviation to get a number closer to 0.\n",
        "\n",
        "Important to unscale at the end - i.e. theta_x = theta_x * std + mean\n"
      ]
    },
    {
      "cell_type": "code",
      "metadata": {
        "id": "55-N3l74FHT1",
        "colab_type": "code",
        "colab": {
          "base_uri": "https://localhost:8080/",
          "height": 153
        },
        "outputId": "f0d8acb3-7dfb-40e8-ac7a-bfc8152ab702"
      },
      "source": [
        "mean_square_footage = df['square_footage'].mean()\n",
        "std_square_footage = df['square_footage'].std()\n",
        "\n",
        "print('mean_square_footage')\n",
        "print(mean_square_footage)\n",
        "\n",
        "df['square_footage'] =  (df['square_footage'] - mean_square_footage) / (std_square_footage) \n",
        "\n",
        "head = df.head()\n",
        "print(head)\n"
      ],
      "execution_count": 7,
      "outputs": [
        {
          "output_type": "stream",
          "text": [
            "mean_square_footage\n",
            "1.8897413185109047e-17\n",
            "   square_footage  rooms   price\n",
            "0        0.130010      3  399900\n",
            "1       -0.504190      3  329900\n",
            "2        0.502476      3  369000\n",
            "3       -0.735723      2  232000\n",
            "4        1.257476      4  539900\n"
          ],
          "name": "stdout"
        }
      ]
    },
    {
      "cell_type": "markdown",
      "metadata": {
        "id": "70XOgEXnWgbq",
        "colab_type": "text"
      },
      "source": [
        "## Setup the MSE function for calculating loss\n",
        "\n",
        "This takes the theta values, and computes the mean squared error for the given x/y values. Which basically records how well the two parameters for a straight line \"fits\" the data."
      ]
    },
    {
      "cell_type": "code",
      "metadata": {
        "id": "JTBl1TbtWqAE",
        "colab_type": "code",
        "colab": {}
      },
      "source": [
        "def mean_squared_error(x, y, theta_0, theta_1):\n",
        "    \"\"\"\n",
        "    Cost function to calculate the average error of using the respective values\n",
        "    for theta_0 and theta_1 for predicting y based on x. The squared value is \n",
        "    commonly used to handle +/- values the same.\n",
        "    \"\"\"\n",
        "    sum = 0\n",
        "    for i in range(len(x)):\n",
        "        sum = sum + (y[i] - h(x[i], theta_0, theta_1))**2\n",
        "\n",
        "    return round(sum / len(x))\n",
        "\n",
        "#print('validating the mean squared error....')\n",
        "#print(mean_squared_error(df['square_footage'].tolist(), df['price'].tolist(), actual_theta_0, actual_theta_1))\n"
      ],
      "execution_count": 8,
      "outputs": []
    },
    {
      "cell_type": "markdown",
      "metadata": {
        "id": "4Bg9Db3BWjgQ",
        "colab_type": "text"
      },
      "source": [
        "## Set up the prediction function, h"
      ]
    },
    {
      "cell_type": "code",
      "metadata": {
        "id": "pKVVBoQZYE-i",
        "colab_type": "code",
        "colab": {}
      },
      "source": [
        "def h(x_i, theta_0, theta_1):\n",
        "    \"\"\"\n",
        "    The \"hypthosis\" - this is our prediction function, that takes the x and the\n",
        "    model values \n",
        "    Assumes the following prediction function:\n",
        "\n",
        "    h(x) = theta_0 + (theta_1 * x)\n",
        "    \"\"\"\n",
        "    return theta_0 + (theta_1 * x_i)"
      ],
      "execution_count": 9,
      "outputs": []
    },
    {
      "cell_type": "markdown",
      "metadata": {
        "id": "dLkf3xVvYgCO",
        "colab_type": "text"
      },
      "source": [
        "## Find values for theta that minimise errors\n",
        "\n",
        "This is where it gets interesting - I understood the cost function (mean squared error) and what was going on, but how we get started thinking about what values to iterate over, and guide to find that we a better value for theta_0 and theta_1 than before?\n",
        "\n",
        "Implemented as a recursive function, to reduce code."
      ]
    },
    {
      "cell_type": "code",
      "metadata": {
        "colab_type": "code",
        "id": "V4ZxZ1OC6WDI",
        "colab": {
          "base_uri": "https://localhost:8080/",
          "height": 279
        },
        "outputId": "c5b5a835-edea-4096-ddb5-85212448c5aa"
      },
      "source": [
        "def scatter_plot_with_line(feature, label, x_label, y_label, theta_0, theta_1):\n",
        "    \"\"\"Plot the trained model against the training feature and label.\"\"\"\n",
        "\n",
        "    # Label the axes.\n",
        "    plt.xlabel(x_label)\n",
        "    plt.ylabel(y_label)\n",
        "\n",
        "    # Plot the feature values vs. label values.\n",
        "    plt.scatter(feature.tolist(), label)\n",
        "\n",
        "    x = np.append([0], feature.to_numpy())# [feature.min(), feature.max()]\n",
        "    line_y = theta_0 + x * theta_1\n",
        "    plt.plot(x, line_y, '-r', label='y=2x+1')\n",
        "\n",
        "    # Render the scatter plot and the red line.\n",
        "    plt.show()\n",
        "\n",
        "scatter_plot_with_line(df['square_footage'], df['price'].tolist(), 'Square Footage', 'Price ($)', 340403, 106903)"
      ],
      "execution_count": 12,
      "outputs": [
        {
          "output_type": "display_data",
          "data": {
            "image/png": "[encoded data removed]",
            "text/plain": [
              "<Figure size 432x288 with 1 Axes>"
            ]
          },
          "metadata": {
            "tags": [],
            "needs_background": "light"
          }
        }
      ]
    },
    {
      "cell_type": "code",
      "metadata": {
        "id": "LQf6i21D0xDM",
        "colab_type": "code",
        "colab": {
          "base_uri": "https://localhost:8080/",
          "height": 344
        },
        "outputId": "21bb8792-420d-4bc1-ad0b-4697c894987c"
      },
      "source": [
        "def mse_diff_theta_0(x, y, theta_0, theta_1):\n",
        "    sum = 0\n",
        "    for i in range(len(x)):\n",
        "        sum = sum + (h(x[i], theta_0, theta_1) - y[i])\n",
        "    return (1/len(x)) * sum\n",
        "\n",
        "def mse_diff_theta_1(x, y, theta_0, theta_1):\n",
        "    sum = 0\n",
        "    for i in range(len(x)):\n",
        "        loss = (h(x[i], theta_0, theta_1) - y[i])\n",
        "        sum = sum + (loss * x[i])\n",
        "\n",
        "    return (1/len(x)) * sum\n",
        "\n",
        "def gradient_descent_single(x, y, alpha = 0.01, theta_0 = 0, theta_1 = 0, iterations = 100):\n",
        "\n",
        "    cost_history = []\n",
        "    theta_history = []\n",
        "\n",
        "    for it in range(iterations):\n",
        "        temp_theta_0 = theta_0 - (alpha * mse_diff_theta_0(x, y, theta_0, theta_1))\n",
        "        temp_theta_1 = theta_1 - (alpha * mse_diff_theta_1(x, y, theta_0, theta_1))\n",
        "        #print('temp_theta_0')\n",
        "        #print(temp_theta_0)\n",
        "        #print('temp_theta_1')\n",
        "        #print(temp_theta_1)\n",
        "\n",
        "        theta_history.append([temp_theta_0, temp_theta_1])\n",
        "        cost_history.append(mean_squared_error(x, y, theta_0, theta_1))\n",
        "\n",
        "        #if temp_theta_0 == theta_0 and temp_theta_1 == theta_1:\n",
        "            #break\n",
        "            #return\n",
        "\n",
        "        theta_0 = temp_theta_0\n",
        "        theta_1 = temp_theta_1\n",
        "\n",
        "    # plot the costs for each iteration\n",
        "    plt.plot(range(iterations), cost_history, '-r', label='y=2x+1')\n",
        "    plt.show()\n",
        "\n",
        "    print('theta_0')\n",
        "    print(theta_0)\n",
        "    print('theta_1')\n",
        "    print(theta_1)\n",
        "\n",
        "gradient_descent_single(df['square_footage'].tolist(), df['price'].tolist(), 0.1, 0, 0, 100)\n"
      ],
      "execution_count": 14,
      "outputs": [
        {
          "output_type": "display_data",
          "data": {
            "image/png": "[encoded data removed]",
            "text/plain": [
              "<Figure size 432x288 with 1 Axes>"
            ]
          },
          "metadata": {
            "tags": [],
            "needs_background": "light"
          }
        },
        {
          "output_type": "stream",
          "text": [
            "theta_0\n",
            "340403.61773803073\n",
            "theta_1\n",
            "106903.96685539681\n"
          ],
          "name": "stdout"
        }
      ]
    }
  ]
}